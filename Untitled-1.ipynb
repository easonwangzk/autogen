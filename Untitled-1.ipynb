{
 "cells": [
  {
   "cell_type": "code",
   "execution_count": 1,
   "metadata": {},
   "outputs": [],
   "source": [
    "!git config --global user.email \"easonwang@uchicago.edu\"\n",
    "!git config --global user.name \"easonwangzk\""
   ]
  },
  {
   "cell_type": "code",
   "execution_count": 2,
   "metadata": {},
   "outputs": [
    {
     "name": "stdout",
     "output_type": "stream",
     "text": [
      "[Errno 2] No such file or directory: '/content/autogen'\n",
      "/Users/easonwang/Desktop/Multi-Agent\n",
      "Initialized empty Git repository in /Users/easonwang/Desktop/Multi-Agent/.git/\n",
      "[main (root-commit) e519fae] Initial commit: Autogen project setup\n",
      " 38 files changed, 5167 insertions(+)\n",
      " create mode 100644 .DS_Store\n",
      " create mode 100644 Untitled-1.ipynb\n",
      " create mode 100644 docs/prd.json\n",
      " create mode 100644 docs/prd.md\n",
      " create mode 100644 docs/system_design.json\n",
      " create mode 100644 medical_multiagent_class_diagram.mermaid\n",
      " create mode 100644 medical_multiagent_sequence_diagram.mermaid\n",
      " create mode 100644 medical_multiagent_system_design.md\n",
      " create mode 100644 react_template/.gitignore\n",
      " create mode 100644 react_template/README.md\n",
      " create mode 100644 react_template/eslint.config.js\n",
      " create mode 100644 react_template/index.html\n",
      " create mode 100644 react_template/package.json\n",
      " create mode 100644 react_template/pnpm-lock.yaml\n",
      " create mode 100644 react_template/postcss.config.js\n",
      " create mode 100644 react_template/public/assets/images/.gitkeep\n",
      " create mode 100644 react_template/public/data/example.json\n",
      " create mode 100644 react_template/src/App.jsx\n",
      " create mode 100644 react_template/src/agents/CoordinatorAgent.js\n",
      " create mode 100644 react_template/src/agents/DoctorAgent.js\n",
      " create mode 100644 react_template/src/agents/KnowledgeAgent.js\n",
      " create mode 100644 react_template/src/agents/PatientAgent.js\n",
      " create mode 100644 react_template/src/components/ChatInterface.jsx\n",
      " create mode 100644 react_template/src/components/HistoryViewer.jsx\n",
      " create mode 100644 react_template/src/components/UserProfile.jsx\n",
      " create mode 100644 react_template/src/index.css\n",
      " create mode 100644 react_template/src/main.jsx\n",
      " create mode 100644 react_template/src/services/GptService.js\n",
      " create mode 100644 react_template/src/services/MessageService.js\n",
      " create mode 100644 react_template/src/store/actions/conversationActions.js\n",
      " create mode 100644 react_template/src/store/index.js\n",
      " create mode 100644 react_template/src/store/reducers/conversationReducer.js\n",
      " create mode 100644 react_template/src/store/reducers/userReducer.js\n",
      " create mode 100644 react_template/src/utils/agentHelpers.js\n",
      " create mode 100644 react_template/tailwind.config.js\n",
      " create mode 100644 react_template/template_config.json\n",
      " create mode 100644 react_template/vite.config.js\n",
      " create mode 100644 wiki.md\n"
     ]
    }
   ],
   "source": [
    "# 确保在正确的目录\n",
    "%cd /content/autogen\n",
    "\n",
    "# 初始化仓库\n",
    "!git init\n",
    "\n",
    "# 添加文件\n",
    "!git add .\n",
    "\n",
    "# 提交更改\n",
    "!git commit -m \"Initial commit: Autogen project setup\""
   ]
  },
  {
   "cell_type": "code",
   "execution_count": 3,
   "metadata": {},
   "outputs": [],
   "source": [
    "# 添加远程仓库\n",
    "!git remote add origin https://github.com/easonwangzk/autogen.git"
   ]
  },
  {
   "cell_type": "code",
   "execution_count": 4,
   "metadata": {},
   "outputs": [
    {
     "name": "stdout",
     "output_type": "stream",
     "text": [
      "* \u001b[32mmain\u001b[m\n"
     ]
    }
   ],
   "source": [
    "!git branch"
   ]
  },
  {
   "cell_type": "code",
   "execution_count": 5,
   "metadata": {},
   "outputs": [
    {
     "name": "stdout",
     "output_type": "stream",
     "text": [
      "On branch main\n",
      "nothing to commit, working tree clean\n",
      "Username for 'https://github.com': "
     ]
    }
   ],
   "source": [
    "# 提交变更（如果还没提交）\n",
    "!git add .\n",
    "!git commit -m \"Init main branch\"\n",
    "\n",
    "# 推送到 GitHub 上的 distillation 分支\n",
    "!git push -u origin main"
   ]
  }
 ],
 "metadata": {
  "kernelspec": {
   "display_name": "base",
   "language": "python",
   "name": "python3"
  },
  "language_info": {
   "codemirror_mode": {
    "name": "ipython",
    "version": 3
   },
   "file_extension": ".py",
   "mimetype": "text/x-python",
   "name": "python",
   "nbconvert_exporter": "python",
   "pygments_lexer": "ipython3",
   "version": "3.11.5"
  }
 },
 "nbformat": 4,
 "nbformat_minor": 2
}
